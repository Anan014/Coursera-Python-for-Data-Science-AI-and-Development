{
 "cells": [
  {
   "cell_type": "markdown",
   "id": "d673832d-40c8-46cb-9683-b1db250266e9",
   "metadata": {},
   "source": [
    "<center>\n",
    "    <img src=\"https://cf-courses-data.s3.us.cloud-object-storage.appdomain.cloud/assets/logos/SN_web_lightmode.png\" width=\"300\" alt=\"cognitiveclass.ai logo\">\n",
    "</center>\n",
    "\n",
    "# Hands-on Lab: API Examples\n",
    "## Random User and Fruityvice API Examples\n",
    "\n",
    "\n",
    "Estimated time needed: **30** minutes\n",
    "\n",
    "## Objectives\n",
    "\n",
    "After completing this lab you will be able to:\n",
    "\n",
    "*   Load and use RandomUser API, using `RandomUser()` Python library\n",
    "*   Load and use Fruityvice API, using `requests` Python library\n",
    "*   Load and use Open-Joke-API, using `requests` Python library\n",
    "\n"
   ]
  },
  {
   "cell_type": "markdown",
   "id": "eddbcea0-12ec-4e02-846a-0df784b7c08e",
   "metadata": {},
   "source": [
    "The purpose of this notebook is to provide more examples on how to use simple APIs. As you have already learned from previous videos and notebooks, API stands for Application Programming Interface and is a software intermediary that allows two applications to talk to each other. \n",
    "\n",
    "The advantages of using APIs:\n",
    " *   **Automation**. Less human effort is required and workflows can be easily updated to become faster and more      \n",
    "     productive.\n",
    " *   **Efficiency**. It allows to use the capabilities of one of the already developed APIs than to try to \n",
    "     independently implement some functionality from scratch.\n",
    " \n",
    "The disadvantage of using APIs:\n",
    " *   **Security**. If the API is poorly integrated, it means it will be vulnerable to attacks, resulting in data breeches or losses having financial or reputation implications.\n",
    "\n",
    "One of the applications we will use in this notebook is Random User Generator. RandomUser is an open-source, free API providing developers with randomly generated users to be used as placeholders for testing purposes. This makes the tool similar to Lorem Ipsum, but is a placeholder for people instead of text. The API can return multiple results, as well as specify generated user details such as gender, email, image, username, address, title, first and last name, and more. More information on [RandomUser](https://randomuser.me/documentation#intro) can be found here.\n",
    "\n",
    "Another example of simple API we will use in this notebook is Fruityvice application. The Fruityvice API web service which provides data for all kinds of fruit! You can use Fruityvice to find out interesting information about fruit and educate yourself. The web service is completely free to use and contribute to.\n"
   ]
  },
  {
   "cell_type": "markdown",
   "id": "d26aeb0e-45f6-47a9-a87d-5f992a240df7",
   "metadata": {},
   "source": [
    "## Example 1: RandomUser API\n",
    "Bellow are Get Methods parameters that we can generate. For more information on the parameters, please visit this [documentation](https://randomuser.me/documentation) page.\n"
   ]
  },
  {
   "cell_type": "markdown",
   "id": "65f143b3-c39e-41b3-9373-9cf3cabc28a8",
   "metadata": {},
   "source": [
    "## **Get Methods**\n",
    "\n",
    "- get_cell()\n",
    "- get_city()\n",
    "- get_dob()\n",
    "- get_email()\n",
    "- get_first_name()\n",
    "- get_full_name()\n",
    "- get_gender()\n",
    "- get_id()\n",
    "- get_id_number()\n",
    "- get_id_type()\n",
    "- get_info()\n",
    "- get_last_name()\n",
    "- get_login_md5()\n",
    "- get_login_salt()\n",
    "- get_login_sha1()\n",
    "- get_login_sha256()\n",
    "- get_nat()\n",
    "- get_password()\n",
    "- get_phone()\n",
    "- get_picture()\n",
    "- get_postcode()\n",
    "- get_registered()\n",
    "- get_state()\n",
    "- get_street()\n",
    "- get_username()\n",
    "- get_zipcode()\n"
   ]
  },
  {
   "cell_type": "markdown",
   "id": "05a0dbcb-3476-4668-a147-dfe09c7435fb",
   "metadata": {},
   "source": [
    "To start using the API you can install the `randomuser` library running the `pip install` command.\n"
   ]
  },
  {
   "cell_type": "code",
   "execution_count": 1,
   "id": "03dd3677-d35e-4846-85dc-ef2e9550d06e",
   "metadata": {},
   "outputs": [
    {
     "name": "stdout",
     "output_type": "stream",
     "text": [
      "Collecting randomuser\n",
      "  Downloading randomuser-1.6.tar.gz (5.0 kB)\n",
      "  Preparing metadata (setup.py) ... \u001b[?25ldone\n",
      "\u001b[?25hBuilding wheels for collected packages: randomuser\n",
      "  Building wheel for randomuser (setup.py) ... \u001b[?25ldone\n",
      "\u001b[?25h  Created wheel for randomuser: filename=randomuser-1.6-py3-none-any.whl size=5067 sha256=ac9a0fc8cb2aeea5fdee07d53170426de74bff6c6807fdfc35792517494b1723\n",
      "  Stored in directory: /Users/ananamer/Library/Caches/pip/wheels/fc/8d/74/bcdd5e8a9433bfa4c4f9c1cccbfec40139322a28d77f61e45e\n",
      "Successfully built randomuser\n",
      "Installing collected packages: randomuser\n",
      "Successfully installed randomuser-1.6\n"
     ]
    }
   ],
   "source": [
    "!pip install randomuser"
   ]
  },
  {
   "cell_type": "markdown",
   "id": "d5cc2fd3-665a-4164-8356-4304ae173001",
   "metadata": {},
   "source": [
    "Then, we will load the necessary libraries.\n"
   ]
  },
  {
   "cell_type": "code",
   "execution_count": 2,
   "id": "eb68b72c-5144-4104-9ad1-940942b583f9",
   "metadata": {},
   "outputs": [],
   "source": [
    "from randomuser import RandomUser\n",
    "import pandas as pd"
   ]
  },
  {
   "cell_type": "markdown",
   "id": "9a733d33-7f47-41cc-a3b6-bd3299fa953c",
   "metadata": {},
   "source": [
    "First, we will create a random user object, r.\n"
   ]
  },
  {
   "cell_type": "code",
   "execution_count": 3,
   "id": "702ae6dc-25f5-491d-817a-e880a26d9277",
   "metadata": {},
   "outputs": [],
   "source": [
    "r = RandomUser()"
   ]
  },
  {
   "cell_type": "markdown",
   "id": "4dc3adf0-64cd-4103-8c0f-cd0461cc18fb",
   "metadata": {},
   "source": [
    "Then, using `generate_users()` function, we get a list of random 10 users.\n"
   ]
  },
  {
   "cell_type": "code",
   "execution_count": 5,
   "id": "7fb687bc-07f8-421e-8ac1-7ecc88116312",
   "metadata": {},
   "outputs": [],
   "source": [
    "some_list = r.generate_users(10)"
   ]
  },
  {
   "cell_type": "code",
   "execution_count": 6,
   "id": "87ba3f4a-a9ff-436d-91df-406802c0b645",
   "metadata": {},
   "outputs": [
    {
     "data": {
      "text/plain": [
       "[<randomuser.RandomUser at 0x16950dd90>,\n",
       " <randomuser.RandomUser at 0x16950d450>,\n",
       " <randomuser.RandomUser at 0x16950f4d0>,\n",
       " <randomuser.RandomUser at 0x16950da10>,\n",
       " <randomuser.RandomUser at 0x16950f990>,\n",
       " <randomuser.RandomUser at 0x16950f290>,\n",
       " <randomuser.RandomUser at 0x16950fb90>,\n",
       " <randomuser.RandomUser at 0x16950c790>,\n",
       " <randomuser.RandomUser at 0x16950f610>,\n",
       " <randomuser.RandomUser at 0x16950fe50>]"
      ]
     },
     "execution_count": 6,
     "metadata": {},
     "output_type": "execute_result"
    }
   ],
   "source": [
    "some_list"
   ]
  },
  {
   "cell_type": "markdown",
   "id": "ce1a40c2-47ef-482d-81f3-842a4fa07d11",
   "metadata": {},
   "source": [
    "The **\"Get Methods\"** functions mentioned at the beginning of this notebook, can generate the required parameters to construct a dataset. For example, to get full name, we call `get_full_name()` function.\n"
   ]
  },
  {
   "cell_type": "code",
   "execution_count": 7,
   "id": "0ea13295-e923-4b5b-9647-cbe05f501821",
   "metadata": {},
   "outputs": [],
   "source": [
    "name = r.get_full_name()"
   ]
  },
  {
   "cell_type": "markdown",
   "id": "d22c29ec-fa87-4a7a-9e8a-8bfff09c7a8c",
   "metadata": {},
   "source": [
    "Let's say we only need 10 users with full names and their email addresses. We can write a \"for-loop\" to print these 10 users.\n"
   ]
  },
  {
   "cell_type": "code",
   "execution_count": 8,
   "id": "32d52bf2-b739-4622-babe-258644f70da8",
   "metadata": {},
   "outputs": [
    {
     "name": "stdout",
     "output_type": "stream",
     "text": [
      "Noelia Jimenez   noelia.jimenez@example.com\n",
      "Elias Honkala   elias.honkala@example.com\n",
      "Lumi Kivi   lumi.kivi@example.com\n",
      "Aaron Cunningham   aaron.cunningham@example.com\n",
      "Jamie Brady   jamie.brady@example.com\n",
      "Cristian Vega   cristian.vega@example.com\n",
      "Lucas Hanson   lucas.hanson@example.com\n",
      "Isla Tuomi   isla.tuomi@example.com\n",
      "Sophie Edwards   sophie.edwards@example.com\n",
      "Goran Muller   goran.muller@example.com\n"
     ]
    }
   ],
   "source": [
    "for user in some_list:\n",
    "    print (user.get_full_name(),\" \",user.get_email())"
   ]
  },
  {
   "cell_type": "markdown",
   "id": "da02b524-824b-4d10-98d9-88ff28d60b91",
   "metadata": {},
   "source": [
    "## Exercise 1\n",
    "In this Exercise, generate photos of the random 10 users.\n"
   ]
  },
  {
   "cell_type": "code",
   "execution_count": 9,
   "id": "185af63b-bd55-4d45-ae0f-cf03739c3cb4",
   "metadata": {},
   "outputs": [
    {
     "name": "stdout",
     "output_type": "stream",
     "text": [
      "https://randomuser.me/api/portraits/women/3.jpg\n",
      "https://randomuser.me/api/portraits/men/89.jpg\n",
      "https://randomuser.me/api/portraits/women/6.jpg\n",
      "https://randomuser.me/api/portraits/men/63.jpg\n",
      "https://randomuser.me/api/portraits/men/8.jpg\n",
      "https://randomuser.me/api/portraits/men/56.jpg\n",
      "https://randomuser.me/api/portraits/men/39.jpg\n",
      "https://randomuser.me/api/portraits/women/49.jpg\n",
      "https://randomuser.me/api/portraits/women/31.jpg\n",
      "https://randomuser.me/api/portraits/men/62.jpg\n"
     ]
    }
   ],
   "source": [
    "## Write your code here\n",
    "for user in some_list:\n",
    "    print (user.get_picture())"
   ]
  },
  {
   "cell_type": "markdown",
   "id": "c18e3695-5c47-4c51-b707-4771ca11ccaf",
   "metadata": {},
   "source": [
    "<details><summary>Click here for the solution</summary>\n",
    "\n",
    "```python\n",
    "for user in some_list:\n",
    "    print (user.get_picture())\n",
    "```\n",
    "\n",
    "</details>\n"
   ]
  },
  {
   "cell_type": "markdown",
   "id": "9d56ec89-0804-4747-9a3c-cd12590f0407",
   "metadata": {},
   "source": [
    "To generate a table with information about the users, we can write a function containing all desirable parameters. For example, name, gender, city, etc. The parameters will depend on the requirements of the test to be performed. We call the Get Methods, listed at the beginning of this notebook. Then, we return pandas dataframe with the users.\n"
   ]
  },
  {
   "cell_type": "code",
   "execution_count": 10,
   "id": "00221c66-9346-40ec-a093-18385112a0cd",
   "metadata": {},
   "outputs": [],
   "source": [
    "def get_users():\n",
    "    users =[]\n",
    "     \n",
    "    for user in RandomUser.generate_users(10):\n",
    "        users.append({\"Name\":user.get_full_name(),\"Gender\":user.get_gender(),\"City\":user.get_city(),\"State\":user.get_state(),\"Email\":user.get_email(), \"DOB\":user.get_dob(),\"Picture\":user.get_picture()})\n",
    "      \n",
    "    return pd.DataFrame(users)     "
   ]
  },
  {
   "cell_type": "code",
   "execution_count": 11,
   "id": "f247afd7-8264-4ba4-a897-3bb3406cd082",
   "metadata": {},
   "outputs": [
    {
     "data": {
      "text/html": [
       "<div>\n",
       "<style scoped>\n",
       "    .dataframe tbody tr th:only-of-type {\n",
       "        vertical-align: middle;\n",
       "    }\n",
       "\n",
       "    .dataframe tbody tr th {\n",
       "        vertical-align: top;\n",
       "    }\n",
       "\n",
       "    .dataframe thead th {\n",
       "        text-align: right;\n",
       "    }\n",
       "</style>\n",
       "<table border=\"1\" class=\"dataframe\">\n",
       "  <thead>\n",
       "    <tr style=\"text-align: right;\">\n",
       "      <th></th>\n",
       "      <th>Name</th>\n",
       "      <th>Gender</th>\n",
       "      <th>City</th>\n",
       "      <th>State</th>\n",
       "      <th>Email</th>\n",
       "      <th>DOB</th>\n",
       "      <th>Picture</th>\n",
       "    </tr>\n",
       "  </thead>\n",
       "  <tbody>\n",
       "    <tr>\n",
       "      <th>0</th>\n",
       "      <td>Matilda Rantala</td>\n",
       "      <td>female</td>\n",
       "      <td>Rääkkylä</td>\n",
       "      <td>Central Finland</td>\n",
       "      <td>matilda.rantala@example.com</td>\n",
       "      <td>1990-02-22T11:54:50.666Z</td>\n",
       "      <td>https://randomuser.me/api/portraits/women/52.jpg</td>\n",
       "    </tr>\n",
       "    <tr>\n",
       "      <th>1</th>\n",
       "      <td>Layla Moore</td>\n",
       "      <td>female</td>\n",
       "      <td>Porirua</td>\n",
       "      <td>Wellington</td>\n",
       "      <td>layla.moore@example.com</td>\n",
       "      <td>1965-07-08T03:06:18.088Z</td>\n",
       "      <td>https://randomuser.me/api/portraits/women/3.jpg</td>\n",
       "    </tr>\n",
       "    <tr>\n",
       "      <th>2</th>\n",
       "      <td>Johnny Romero</td>\n",
       "      <td>male</td>\n",
       "      <td>Charleston</td>\n",
       "      <td>Nebraska</td>\n",
       "      <td>johnny.romero@example.com</td>\n",
       "      <td>1991-04-20T13:34:28.266Z</td>\n",
       "      <td>https://randomuser.me/api/portraits/men/35.jpg</td>\n",
       "    </tr>\n",
       "    <tr>\n",
       "      <th>3</th>\n",
       "      <td>Isabelle Ferguson</td>\n",
       "      <td>female</td>\n",
       "      <td>Plymouth</td>\n",
       "      <td>Leicestershire</td>\n",
       "      <td>isabelle.ferguson@example.com</td>\n",
       "      <td>1981-02-05T10:18:33.606Z</td>\n",
       "      <td>https://randomuser.me/api/portraits/women/81.jpg</td>\n",
       "    </tr>\n",
       "    <tr>\n",
       "      <th>4</th>\n",
       "      <td>Malone Roche</td>\n",
       "      <td>male</td>\n",
       "      <td>Asnières-sur-Seine</td>\n",
       "      <td>Essonne</td>\n",
       "      <td>malone.roche@example.com</td>\n",
       "      <td>1952-01-16T03:38:22.021Z</td>\n",
       "      <td>https://randomuser.me/api/portraits/men/41.jpg</td>\n",
       "    </tr>\n",
       "    <tr>\n",
       "      <th>5</th>\n",
       "      <td>Mike Rice</td>\n",
       "      <td>male</td>\n",
       "      <td>Stirling</td>\n",
       "      <td>Dyfed</td>\n",
       "      <td>mike.rice@example.com</td>\n",
       "      <td>1964-07-24T04:10:36.002Z</td>\n",
       "      <td>https://randomuser.me/api/portraits/men/41.jpg</td>\n",
       "    </tr>\n",
       "    <tr>\n",
       "      <th>6</th>\n",
       "      <td>مانی محمدخان</td>\n",
       "      <td>male</td>\n",
       "      <td>اردبیل</td>\n",
       "      <td>خراسان شمالی</td>\n",
       "      <td>mny.mhmdkhn@example.com</td>\n",
       "      <td>1987-11-24T10:36:35.004Z</td>\n",
       "      <td>https://randomuser.me/api/portraits/men/64.jpg</td>\n",
       "    </tr>\n",
       "    <tr>\n",
       "      <th>7</th>\n",
       "      <td>Adalbert Sasse</td>\n",
       "      <td>male</td>\n",
       "      <td>Salzkotten</td>\n",
       "      <td>Hessen</td>\n",
       "      <td>adalbert.sasse@example.com</td>\n",
       "      <td>1954-03-23T09:52:40.200Z</td>\n",
       "      <td>https://randomuser.me/api/portraits/men/42.jpg</td>\n",
       "    </tr>\n",
       "    <tr>\n",
       "      <th>8</th>\n",
       "      <td>Afet Önür</td>\n",
       "      <td>female</td>\n",
       "      <td>Ankara</td>\n",
       "      <td>Tekirdağ</td>\n",
       "      <td>afet.onur@example.com</td>\n",
       "      <td>1983-07-24T12:08:14.591Z</td>\n",
       "      <td>https://randomuser.me/api/portraits/women/65.jpg</td>\n",
       "    </tr>\n",
       "    <tr>\n",
       "      <th>9</th>\n",
       "      <td>Arttu Mantyla</td>\n",
       "      <td>male</td>\n",
       "      <td>Kimitoön</td>\n",
       "      <td>Ostrobothnia</td>\n",
       "      <td>arttu.mantyla@example.com</td>\n",
       "      <td>1986-12-28T16:29:47.211Z</td>\n",
       "      <td>https://randomuser.me/api/portraits/men/0.jpg</td>\n",
       "    </tr>\n",
       "  </tbody>\n",
       "</table>\n",
       "</div>"
      ],
      "text/plain": [
       "                Name  Gender                City            State  \\\n",
       "0    Matilda Rantala  female            Rääkkylä  Central Finland   \n",
       "1        Layla Moore  female             Porirua       Wellington   \n",
       "2      Johnny Romero    male          Charleston         Nebraska   \n",
       "3  Isabelle Ferguson  female            Plymouth   Leicestershire   \n",
       "4       Malone Roche    male  Asnières-sur-Seine          Essonne   \n",
       "5          Mike Rice    male            Stirling            Dyfed   \n",
       "6       مانی محمدخان    male              اردبیل     خراسان شمالی   \n",
       "7     Adalbert Sasse    male          Salzkotten           Hessen   \n",
       "8          Afet Önür  female              Ankara         Tekirdağ   \n",
       "9      Arttu Mantyla    male            Kimitoön     Ostrobothnia   \n",
       "\n",
       "                           Email                       DOB  \\\n",
       "0    matilda.rantala@example.com  1990-02-22T11:54:50.666Z   \n",
       "1        layla.moore@example.com  1965-07-08T03:06:18.088Z   \n",
       "2      johnny.romero@example.com  1991-04-20T13:34:28.266Z   \n",
       "3  isabelle.ferguson@example.com  1981-02-05T10:18:33.606Z   \n",
       "4       malone.roche@example.com  1952-01-16T03:38:22.021Z   \n",
       "5          mike.rice@example.com  1964-07-24T04:10:36.002Z   \n",
       "6        mny.mhmdkhn@example.com  1987-11-24T10:36:35.004Z   \n",
       "7     adalbert.sasse@example.com  1954-03-23T09:52:40.200Z   \n",
       "8          afet.onur@example.com  1983-07-24T12:08:14.591Z   \n",
       "9      arttu.mantyla@example.com  1986-12-28T16:29:47.211Z   \n",
       "\n",
       "                                            Picture  \n",
       "0  https://randomuser.me/api/portraits/women/52.jpg  \n",
       "1   https://randomuser.me/api/portraits/women/3.jpg  \n",
       "2    https://randomuser.me/api/portraits/men/35.jpg  \n",
       "3  https://randomuser.me/api/portraits/women/81.jpg  \n",
       "4    https://randomuser.me/api/portraits/men/41.jpg  \n",
       "5    https://randomuser.me/api/portraits/men/41.jpg  \n",
       "6    https://randomuser.me/api/portraits/men/64.jpg  \n",
       "7    https://randomuser.me/api/portraits/men/42.jpg  \n",
       "8  https://randomuser.me/api/portraits/women/65.jpg  \n",
       "9     https://randomuser.me/api/portraits/men/0.jpg  "
      ]
     },
     "execution_count": 11,
     "metadata": {},
     "output_type": "execute_result"
    }
   ],
   "source": [
    "get_users()"
   ]
  },
  {
   "cell_type": "code",
   "execution_count": 12,
   "id": "6e86e087-1fea-48d7-9772-3fbbea86d783",
   "metadata": {},
   "outputs": [],
   "source": [
    "df1 = pd.DataFrame(get_users())  "
   ]
  },
  {
   "cell_type": "markdown",
   "id": "801f8632-b3b0-455e-ba23-bb56881ab28d",
   "metadata": {},
   "source": [
    "Now we have a *pandas* dataframe that can be used for any testing purposes that the tester might have.\n"
   ]
  },
  {
   "cell_type": "markdown",
   "id": "c142e473-8541-412d-97e9-fcf9137162c9",
   "metadata": {},
   "source": [
    "## Example 2: Fruityvice API\n",
    "\n",
    "Another, more common way to use APIs, is through `requests` library. The next lab, Requests and HTTP, will contain more information about requests.\n",
    "\n",
    "We will start by importing all required libraries.\n"
   ]
  },
  {
   "cell_type": "code",
   "execution_count": null,
   "id": "0fab7231-1595-4987-9371-3f405be38bab",
   "metadata": {},
   "outputs": [],
   "source": [
    "import requests\n",
    "import json"
   ]
  },
  {
   "cell_type": "markdown",
   "id": "84aaa532-7396-4c8f-9a47-ca59fd1c163f",
   "metadata": {},
   "source": [
    "We will obtain the [fruityvice](https://www.fruityvice.com) API data using `requests.get(\"url\")` function. The data is in a json format.\n"
   ]
  },
  {
   "cell_type": "code",
   "execution_count": null,
   "id": "7053b9c6-62a0-41fd-9ec9-eb4b5d827adc",
   "metadata": {},
   "outputs": [],
   "source": [
    "data = requests.get(\"https://fruityvice.com/api/fruit/all\")"
   ]
  },
  {
   "cell_type": "markdown",
   "id": "6052ec70-26d8-4353-ac80-a256ad0079fd",
   "metadata": {},
   "source": [
    "We will retrieve results using `json.loads()` function.\n"
   ]
  },
  {
   "cell_type": "code",
   "execution_count": null,
   "id": "cf72f427-a3e7-4a26-a380-3cfa6f98d6cd",
   "metadata": {},
   "outputs": [],
   "source": [
    "results = json.loads(data.text)"
   ]
  },
  {
   "cell_type": "markdown",
   "id": "9428e0b5-4eac-4b55-80fa-352fbdfbd887",
   "metadata": {},
   "source": [
    "We will convert our json data into *pandas* data frame. \n"
   ]
  },
  {
   "cell_type": "code",
   "execution_count": null,
   "id": "95a814d1-d830-439f-85c8-a266ecacdf46",
   "metadata": {},
   "outputs": [],
   "source": [
    "pd.DataFrame(results)"
   ]
  },
  {
   "cell_type": "markdown",
   "id": "c42000a0-c4a4-414a-bb75-38eb4c582f7e",
   "metadata": {},
   "source": [
    "The result is in a nested json format. The 'nutrition' column contains multiple subcolumns, so the data needs to be 'flattened' or normalized.\n"
   ]
  },
  {
   "cell_type": "code",
   "execution_count": null,
   "id": "9aee3a41-b079-4717-83b5-eacaec453d54",
   "metadata": {},
   "outputs": [],
   "source": [
    "df2 = pd.json_normalize(results)"
   ]
  },
  {
   "cell_type": "code",
   "execution_count": null,
   "id": "f0c14769-091f-43c1-94b5-1b6453d0d239",
   "metadata": {},
   "outputs": [],
   "source": [
    "df2"
   ]
  },
  {
   "cell_type": "markdown",
   "id": "bf762cc4-51a3-4531-8d0a-9af6a56c03f8",
   "metadata": {},
   "source": [
    "Let's see if we can extract some information from this dataframe. Perhaps, we need to know the family and genus of a cherry.\n"
   ]
  },
  {
   "cell_type": "code",
   "execution_count": null,
   "id": "660d98e6-2e39-4529-9d4b-101a910e2c78",
   "metadata": {},
   "outputs": [],
   "source": [
    "cherry = df2.loc[df2[\"name\"] == 'Cherry']\n",
    "(cherry.iloc[0]['family']) , (cherry.iloc[0]['genus'])"
   ]
  },
  {
   "cell_type": "markdown",
   "id": "602737fd-1d4f-4f55-abf6-82d1ef8d7e9d",
   "metadata": {},
   "source": [
    "## Exercise 2\n",
    "In this Exercise, find out how many calories are contained in a banana.\n"
   ]
  },
  {
   "cell_type": "code",
   "execution_count": null,
   "id": "7d8fceb0-e213-499b-9911-38f84a27fa37",
   "metadata": {},
   "outputs": [],
   "source": [
    "# Write your code here\n"
   ]
  },
  {
   "cell_type": "markdown",
   "id": "322fe91e-b8b8-45cb-96cf-de985f2c28e3",
   "metadata": {},
   "source": [
    "<details><summary>Click here for the solution</summary>\n",
    "\n",
    "```python\n",
    "cal_banana = df2.loc[df2[\"name\"] == 'Banana']\n",
    "cal_banana.iloc[0]['nutritions.calories']\n",
    "```\n",
    "\n",
    "</details>\n"
   ]
  },
  {
   "cell_type": "markdown",
   "id": "edd4a007-06e0-40bf-9a55-98f8c7bf31c0",
   "metadata": {},
   "source": [
    "## Exercise 3\n",
    "\n",
    "This [page](https://mixedanalytics.com/blog/list-actually-free-open-no-auth-needed-apis/) contains a list of free public APIs for you to practice. Let us deal with the following example.\n",
    "\n",
    "#### Official Joke API \n",
    "This API returns random jokes from a database. The following URL can be used to retrieve 10 random jokes.\n",
    "\n",
    "https://official-joke-api.appspot.com/jokes/ten\n",
    "\n",
    "1. Using `requests.get(\"url\")` function, load the data from the URL.\n"
   ]
  },
  {
   "cell_type": "code",
   "execution_count": null,
   "id": "a2cf8c3a-6d3b-4bc8-bb26-caa402e87e7d",
   "metadata": {},
   "outputs": [],
   "source": [
    "# Write your code here\n"
   ]
  },
  {
   "cell_type": "markdown",
   "id": "e78e58bd-fabc-468a-aed5-8177ab4c3571",
   "metadata": {},
   "source": [
    "<details><summary>Click here for the solution</summary>\n",
    "\n",
    "```python\n",
    "data2 = requests.get(\"https://official-joke-api.appspot.com/jokes/ten\")\n",
    "```\n",
    "\n",
    "</details>\n"
   ]
  },
  {
   "cell_type": "markdown",
   "id": "f66559c1-3b10-4b47-b6fd-670873514837",
   "metadata": {},
   "source": [
    "2. Retrieve results using `json.loads()` function.\n"
   ]
  },
  {
   "cell_type": "code",
   "execution_count": null,
   "id": "08da44dc-2543-4eb6-9d25-c4cdedc54848",
   "metadata": {},
   "outputs": [],
   "source": [
    "# Write your code here\n"
   ]
  },
  {
   "cell_type": "markdown",
   "id": "4062641e-2b8d-4a14-bfe7-d7dea2133187",
   "metadata": {},
   "source": [
    "<details><summary>Click here for the solution</summary>\n",
    "\n",
    "```python\n",
    "results2 = json.loads(data2.text)\n",
    "```\n",
    "\n",
    "</details>\n"
   ]
  },
  {
   "cell_type": "markdown",
   "id": "51f2a639-5e1c-4313-bbf7-ea9132ed6c07",
   "metadata": {},
   "source": [
    "3. Convert json data into *pandas* data frame. Drop the type and id columns.\n"
   ]
  },
  {
   "cell_type": "code",
   "execution_count": null,
   "id": "568bda9e-5f41-4ac3-a203-480c91bbdf73",
   "metadata": {},
   "outputs": [],
   "source": [
    "# Write your code here\n"
   ]
  },
  {
   "cell_type": "markdown",
   "id": "a1c0dc3d-1a0d-468d-9472-b1a86d1bb230",
   "metadata": {},
   "source": [
    "<details><summary>Click here for the solution</summary>\n",
    "\n",
    "```python\n",
    "df3 = pd.DataFrame(results2)\n",
    "df3.drop(columns=[\"type\",\"id\"],inplace=True)\n",
    "df3\n",
    "```\n",
    "\n",
    "</details>\n"
   ]
  },
  {
   "cell_type": "markdown",
   "id": "d18fa720-1e4f-412c-83b4-ca09da2266d0",
   "metadata": {},
   "source": [
    "# Congratulations! - You have completed the lab\n"
   ]
  },
  {
   "cell_type": "markdown",
   "id": "4d2cbd08-2095-4ee5-9ebe-487702a907aa",
   "metadata": {},
   "source": [
    "## Author\n",
    "<a href=\"https://www.linkedin.com/in/svitlana-kramar\" target=\"_blank\">Svitlana Kramar</a>\n",
    "\n",
    "Svitlana is a master’s degree Data Science and Analytics student at University of Calgary, who enjoys travelling, learning new languages and cultures and loves spreading her passion for Data Science.\n",
    "\n",
    "## Additional Contributor\n",
    "<a href=\"https://www.linkedin.com/in/abhishek-gagneja-23051987/\" target=\"_blank\">Abhishek Gagneja</a>\n"
   ]
  },
  {
   "cell_type": "markdown",
   "id": "3ac85d1f-a634-40ab-843f-1fc98c2e65eb",
   "metadata": {},
   "source": [
    "Copyright © 2023 IBM Corporation. All rights reserved.\n"
   ]
  }
 ],
 "metadata": {
  "kernelspec": {
   "display_name": "base",
   "language": "python",
   "name": "python3"
  },
  "language_info": {
   "codemirror_mode": {
    "name": "ipython",
    "version": 3
   },
   "file_extension": ".py",
   "mimetype": "text/x-python",
   "name": "python",
   "nbconvert_exporter": "python",
   "pygments_lexer": "ipython3",
   "version": "3.11.5"
  }
 },
 "nbformat": 4,
 "nbformat_minor": 4
}
